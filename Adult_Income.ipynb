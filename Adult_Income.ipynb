{
 "cells": [
  {
   "cell_type": "code",
   "execution_count": 7,
   "id": "e8781628-de52-4c40-8c14-4fab881116ac",
   "metadata": {},
   "outputs": [],
   "source": [
    "import numpy as np\n",
    "import pandas as pd\n",
    "import matplotlib.pyplot as plt"
   ]
  },
  {
   "cell_type": "code",
   "execution_count": 15,
   "id": "5d945c5d-ce25-440e-aa08-734215a9e591",
   "metadata": {},
   "outputs": [],
   "source": [
    "epi_dta_2000 = pd.read_stata(\"./Dataset/epi_cpsbasic_2000.dta\", convert_categoricals=False)"
   ]
  },
  {
   "cell_type": "code",
   "execution_count": 23,
   "id": "346fae87-383a-4d98-990a-b21999c61120",
   "metadata": {},
   "outputs": [],
   "source": [
    "epi_dta_2000_df = pd.DataFrame(epi_dta_2000)"
   ]
  },
  {
   "cell_type": "code",
   "execution_count": 33,
   "id": "87dde79d-7ee3-4ba3-ab9a-2513f1fc127d",
   "metadata": {},
   "outputs": [
    {
     "data": {
      "text/plain": [
       "Index(['year', 'month', 'minsamp', 'hrhhid', 'hrhhid2', 'hrsample', 'hrsersuf',\n",
       "       'huhhnum', 'pulineno', 'unicon_recnum',\n",
       "       ...\n",
       "       'wage_noadj', 'wageotc_noadj', 'faminc', 'ownchild', 'famrel',\n",
       "       'agechild', 'hoursu1i', 'weekpay', 'wage', 'wageotc'],\n",
       "      dtype='object', length=125)"
      ]
     },
     "execution_count": 33,
     "metadata": {},
     "output_type": "execute_result"
    }
   ],
   "source": [
    "pd.set_option('display.max_columns', None)\n",
    "epi_dta_2000_df.columns"
   ]
  },
  {
   "cell_type": "code",
   "execution_count": null,
   "id": "b3415e35-6285-4e43-8a3a-ded5bec58f84",
   "metadata": {},
   "outputs": [],
   "source": []
  }
 ],
 "metadata": {
  "kernelspec": {
   "display_name": "Python 3 (ipykernel)",
   "language": "python",
   "name": "python3"
  },
  "language_info": {
   "codemirror_mode": {
    "name": "ipython",
    "version": 3
   },
   "file_extension": ".py",
   "mimetype": "text/x-python",
   "name": "python",
   "nbconvert_exporter": "python",
   "pygments_lexer": "ipython3",
   "version": "3.11.9"
  }
 },
 "nbformat": 4,
 "nbformat_minor": 5
}
