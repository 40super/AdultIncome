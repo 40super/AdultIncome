{
 "cells": [
  {
   "cell_type": "code",
   "execution_count": 1,
   "id": "1d4f0ba4-357d-48ed-8637-8869949f8512",
   "metadata": {},
   "outputs": [],
   "source": [
    "import pandas as pd"
   ]
  },
  {
   "cell_type": "code",
   "execution_count": 3,
   "id": "86f2562f-26cd-48ea-9229-e0b75e75ede8",
   "metadata": {},
   "outputs": [],
   "source": [
    "s2020 = pd.read_csv('./Dataset/csv/_sampled_demo_2020.csv')\n",
    "s2021 = pd.read_csv('./Dataset/csv/_sampled_demo_2021.csv')\n",
    "s2022 = pd.read_csv('./Dataset/csv/_sampled_demo_2022.csv')\n",
    "s2023 = pd.read_csv('./Dataset/csv/_sampled_demo_2023.csv')\n",
    "s2024f6 = pd.read_csv('./Dataset/csv/_sampled_demo_2024f6.csv')"
   ]
  },
  {
   "cell_type": "code",
   "execution_count": 5,
   "id": "08e00b02-9f98-4b3d-ad3e-a1769a52e61c",
   "metadata": {},
   "outputs": [],
   "source": [
    "sf = pd.concat([s2020,s2021,s2022,s2023,s2024f6],ignore_index=True)\n"
   ]
  },
  {
   "cell_type": "code",
   "execution_count": 19,
   "id": "0bc763a6-d35f-4b39-9fc4-5b49ee55c5e0",
   "metadata": {},
   "outputs": [],
   "source": [
    "sf.rename(columns={'region':'Region', 'statefips':'State','age':'Age','female':'Gender','wbhao':'Race','educ':'Education','faminc': 'Family Income', 'emp' : 'Employement','dlfstat':'Labor-force Status', 'dind03': 'Detailed Industry','mocc10':'Major Occupation','occ18':'Occupation Classification','multjobs':'Multiple Job Holder','numjobs':'Number of Jobs','metstat':'Metropolitan Status','cbsasize':'Size of Metropolitan','citistat':'Citizen Status', 'citizen':'Citizen', 'famrel':'Family Relation', 'married':'Married','veteran':'Veteran','basicwgt':'Basic Weightage', 'year_of_data':'Year of Data' },inplace=True)"
   ]
  },
  {
   "cell_type": "code",
   "execution_count": 21,
   "id": "f3c66bc5-55e8-4bbd-90b0-485bfdef296b",
   "metadata": {},
   "outputs": [
    {
     "data": {
      "text/plain": [
       "Index(['Region', 'State', 'Age', 'Gender', 'Race', 'Education',\n",
       "       'Family Income', 'Employement', 'Labor-force Status',\n",
       "       'Detailed Industry', 'Major Occupation', 'Occupation Classification',\n",
       "       'Multiple Job Holder', 'Number of Jobs', 'Metropolitan Status',\n",
       "       'Size of Metropolitan', 'Citizen Status', 'Citizen', 'Family Relation',\n",
       "       'Married', 'Veteran', 'Basic Weightage', 'Year of Data'],\n",
       "      dtype='object')"
      ]
     },
     "execution_count": 21,
     "metadata": {},
     "output_type": "execute_result"
    }
   ],
   "source": [
    "sf.columns"
   ]
  },
  {
   "cell_type": "code",
   "execution_count": 23,
   "id": "bd520a5a-d54c-4fa0-9179-ad769521a92b",
   "metadata": {},
   "outputs": [],
   "source": [
    "sf.to_csv('./Dataset/csv/_sampled_demo_FULL.csv')"
   ]
  },
  {
   "cell_type": "code",
   "execution_count": null,
   "id": "3f855c7b-5623-4b83-9971-26cf31e803e8",
   "metadata": {},
   "outputs": [],
   "source": []
  }
 ],
 "metadata": {
  "kernelspec": {
   "display_name": "Python 3 (ipykernel)",
   "language": "python",
   "name": "python3"
  },
  "language_info": {
   "codemirror_mode": {
    "name": "ipython",
    "version": 3
   },
   "file_extension": ".py",
   "mimetype": "text/x-python",
   "name": "python",
   "nbconvert_exporter": "python",
   "pygments_lexer": "ipython3",
   "version": "3.11.9"
  }
 },
 "nbformat": 4,
 "nbformat_minor": 5
}
