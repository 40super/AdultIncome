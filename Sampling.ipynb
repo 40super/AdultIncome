{
 "cells": [
  {
   "cell_type": "code",
   "execution_count": 93,
   "id": "02ba9a06-8b0f-444f-9a7a-6485a0e5c7b4",
   "metadata": {},
   "outputs": [],
   "source": [
    "import numpy as np\n",
    "import pandas as pd\n",
    "import matplotlib.pyplot as plt\n",
    "import datetime\n",
    "from sklearn.utils import shuffle"
   ]
  },
  {
   "cell_type": "code",
   "execution_count": 95,
   "id": "fda26e0b-0dde-4179-a681-9ac1b4ad022e",
   "metadata": {},
   "outputs": [],
   "source": [
    "#TODO: Get data and create a sample from it to export to a excel file for each year to then begin analysis\n",
    "# Also do some minor cleaning such as removing the 80+ dates as we do not need that no more.\n",
    "d_2020 = pd.read_csv('./Dataset/csv/demo_2020.csv')\n",
    "d_2021 = pd.read_csv('./Dataset/csv/demo_2021.csv')\n",
    "d_2022 = pd.read_csv('./Dataset/csv/demo_2022.csv')\n",
    "d_2023 = pd.read_csv('./Dataset/csv/demo_2023.csv')\n",
    "d_2024_f6 = pd.read_csv('./Dataset/csv/demo_2024_first_6.csv')\n",
    "\n"
   ]
  },
  {
   "cell_type": "code",
   "execution_count": 96,
   "id": "62414e9c-e785-4636-b926-e32f7241cac8",
   "metadata": {},
   "outputs": [
    {
     "data": {
      "text/plain": [
       "array(['21', '48', '41', '38', '23', '62', '55', '53', '50', '35', '43',\n",
       "       '61', '60', '52', '37', '34', '66', '28', '22', '74', '26', '27',\n",
       "       '39', '31', '69', '44', '56', '32', '47', '57', '70', '65', '36',\n",
       "       '25', '42', '30', '59', '58', '20', '54', '18', '80+', '46', '63',\n",
       "       '49', '33', '67', '45', '51', '72', '29', '71', '24', '40', '68',\n",
       "       '64', '19', '73', '79', '78', '17', '77', '76', '75'], dtype=object)"
      ]
     },
     "execution_count": 96,
     "metadata": {},
     "output_type": "execute_result"
    }
   ],
   "source": [
    "d_2020.age.unique()"
   ]
  },
  {
   "cell_type": "code",
   "execution_count": 97,
   "id": "eff1e0fc-56d0-429c-ae0e-9616e262609d",
   "metadata": {},
   "outputs": [],
   "source": [
    "d_2020 = d_2020[d_2020.age != '80+']\n",
    "d_2021 = d_2021[d_2021.age != '80+']\n",
    "d_2022 = d_2022[d_2022.age != '80+']\n",
    "d_2023 = d_2023[d_2023.age != '80+']\n",
    "d_2024_f6 = d_2024_f6[d_2024_f6.age != '80+']"
   ]
  },
  {
   "cell_type": "code",
   "execution_count": 98,
   "id": "9e095bf8-8136-4f65-89c9-0b9dd9734b10",
   "metadata": {},
   "outputs": [
    {
     "data": {
      "text/plain": [
       "wbhao     region   \n",
       "Asian     Midwest        4076\n",
       "          Northeast      5986\n",
       "          South          8156\n",
       "          West          17555\n",
       "Black     Midwest        6894\n",
       "          Northeast      6488\n",
       "          South         32167\n",
       "          West           4975\n",
       "Hispanic  Midwest        7371\n",
       "          Northeast      8597\n",
       "          South         25716\n",
       "          West          30790\n",
       "Other     Midwest        1287\n",
       "          Northeast       273\n",
       "          South          1484\n",
       "          West           3168\n",
       "White     Midwest       96883\n",
       "          Northeast     69535\n",
       "          South        122794\n",
       "          West          92806\n",
       "Name: region, dtype: int64"
      ]
     },
     "execution_count": 98,
     "metadata": {},
     "output_type": "execute_result"
    }
   ],
   "source": [
    "d_2020.groupby(['wbhao','region'])['region'].count()"
   ]
  },
  {
   "cell_type": "code",
   "execution_count": 99,
   "id": "b705b84c-461c-46c9-a42e-b5f3bee73756",
   "metadata": {},
   "outputs": [
    {
     "data": {
      "text/plain": [
       "array(['White', 'Black', 'Hispanic', 'Asian', 'Other'], dtype=object)"
      ]
     },
     "execution_count": 99,
     "metadata": {},
     "output_type": "execute_result"
    }
   ],
   "source": [
    "d_2020['wbhao'].unique()"
   ]
  },
  {
   "cell_type": "code",
   "execution_count": 100,
   "id": "5eecd6e4-ddf9-4cc8-a06a-5f1bb86007de",
   "metadata": {},
   "outputs": [
    {
     "data": {
      "text/plain": [
       "wbhao\n",
       "Asian        35773\n",
       "Black        50524\n",
       "Hispanic     72474\n",
       "Other         6212\n",
       "White       382018\n",
       "Name: wbhao, dtype: int64"
      ]
     },
     "execution_count": 100,
     "metadata": {},
     "output_type": "execute_result"
    }
   ],
   "source": [
    "d_2020.groupby('wbhao')['wbhao'].count()"
   ]
  },
  {
   "cell_type": "code",
   "execution_count": 113,
   "id": "8eeca591-5367-47b0-ac12-d9ab578d754b",
   "metadata": {},
   "outputs": [
    {
     "data": {
      "text/plain": [
       "wbhao     region   \n",
       "Asian     Midwest        4448\n",
       "          Northeast      6253\n",
       "          South          8877\n",
       "          West          18725\n",
       "Black     Midwest        7480\n",
       "          Northeast      6596\n",
       "          South         34711\n",
       "          West           5272\n",
       "Hispanic  Midwest        7803\n",
       "          Northeast      8844\n",
       "          South         29682\n",
       "          West          33496\n",
       "Other     Midwest        1299\n",
       "          Northeast       301\n",
       "          South          1632\n",
       "          West           3244\n",
       "White     Midwest       95740\n",
       "          Northeast     66953\n",
       "          South        125096\n",
       "          West          92865\n",
       "Name: region, dtype: int64"
      ]
     },
     "execution_count": 113,
     "metadata": {},
     "output_type": "execute_result"
    }
   ],
   "source": [
    "d_2021.groupby(['wbhao','region'])['region'].count()\n"
   ]
  },
  {
   "cell_type": "code",
   "execution_count": 111,
   "id": "8e074639-3e61-448c-b0ef-158b01dfc62b",
   "metadata": {},
   "outputs": [
    {
     "data": {
      "text/plain": [
       "wbhao\n",
       "Asian        38303\n",
       "Black        54059\n",
       "Hispanic     79825\n",
       "Other         6476\n",
       "White       380654\n",
       "Name: wbhao, dtype: int64"
      ]
     },
     "execution_count": 111,
     "metadata": {},
     "output_type": "execute_result"
    }
   ],
   "source": [
    "d_2021.groupby('wbhao')['wbhao'].count()"
   ]
  },
  {
   "cell_type": "code",
   "execution_count": 147,
   "id": "db46cecd-53c5-4f0e-bb06-098cf1864824",
   "metadata": {},
   "outputs": [],
   "source": [
    "def df_sampline(df, sample_size_per_race = 5000 , other_race_sample_size = 100):\n",
    "    \"\"\"This functions takes in a dataframe that has the wbhao column and sample a set value. \n",
    "    It then split the dataframe by race and then sample each based on the parameter then concat the sampling all together.\n",
    "      df : pandas Dataframe\n",
    "      sample_size_per_race : int\n",
    "      other_race_sample_size : int\n",
    "    \"\"\"    \n",
    "    print(\"-----------------Splitting----------------------\\n\")\n",
    "    df_a = df[df['wbhao'] == 'Asian' ]\n",
    "    df_w = df[df['wbhao'] == 'White' ]\n",
    "    df_b = df[df['wbhao'] == 'Black' ]\n",
    "    df_h = df[df['wbhao'] == 'Hispanic' ]\n",
    "    df_o = df[df['wbhao'] == 'Other' ]\n",
    "    print(\"-----------------COMPLETED SPLITTING----------------------\")\n",
    "    print(\"----------------Sampling------------------------\\n\")\n",
    "    print(f\"Sample Amount: {sample_size_per_race + other_race_sample_size}\")\n",
    "    df_a = df_a.sample(n= sample_size_per_race)\n",
    "    df_w = df_w.sample(n= sample_size_per_race)\n",
    "    df_b = df_b.sample(n= sample_size_per_race)\n",
    "    df_h = df_h.sample(n= sample_size_per_race)\n",
    "    df_o = df_o.sample(n= other_race_sample_size)\n",
    "    print(\"--------------Completing indexing-----------------\")\n",
    "    df_full = pd.concat([df_a,df_w,df_b,df_h,df_o],ignore_index=True)\n",
    "    df_full.reset_index(inplace=True)\n",
    "    del df_full['index']\n",
    "    print(\"Done\")\n",
    "    return df_full\n",
    "    \n",
    "    \n",
    "    "
   ]
  },
  {
   "cell_type": "code",
   "execution_count": 149,
   "id": "a2aa650a-7d47-4d73-9e42-aebf977f36b3",
   "metadata": {},
   "outputs": [
    {
     "data": {
      "text/plain": [
       "wbhao\n",
       "Asian        19591\n",
       "Black        24854\n",
       "Hispanic     43316\n",
       "Other         3157\n",
       "White       175518\n",
       "Name: wbhao, dtype: int64"
      ]
     },
     "execution_count": 149,
     "metadata": {},
     "output_type": "execute_result"
    }
   ],
   "source": [
    "d_2024_f6.groupby('wbhao')['wbhao'].count()"
   ]
  },
  {
   "cell_type": "code",
   "execution_count": 151,
   "id": "792546a0-0703-42fa-a8f9-b21a328e0083",
   "metadata": {},
   "outputs": [
    {
     "name": "stdout",
     "output_type": "stream",
     "text": [
      "-----------------Splitting----------------------\n",
      "\n",
      "-----------------COMPLETED SPLITTING----------------------\n",
      "----------------Sampling------------------------\n",
      "\n",
      "Sample Amount: 21000\n",
      "--------------Completing indexing-----------------\n",
      "Done\n",
      "-----------------Splitting----------------------\n",
      "\n",
      "-----------------COMPLETED SPLITTING----------------------\n",
      "----------------Sampling------------------------\n",
      "\n",
      "Sample Amount: 21000\n",
      "--------------Completing indexing-----------------\n",
      "Done\n",
      "-----------------Splitting----------------------\n",
      "\n",
      "-----------------COMPLETED SPLITTING----------------------\n",
      "----------------Sampling------------------------\n",
      "\n",
      "Sample Amount: 21000\n",
      "--------------Completing indexing-----------------\n",
      "Done\n",
      "-----------------Splitting----------------------\n",
      "\n",
      "-----------------COMPLETED SPLITTING----------------------\n",
      "----------------Sampling------------------------\n",
      "\n",
      "Sample Amount: 21000\n",
      "--------------Completing indexing-----------------\n",
      "Done\n",
      "-----------------Splitting----------------------\n",
      "\n",
      "-----------------COMPLETED SPLITTING----------------------\n",
      "----------------Sampling------------------------\n",
      "\n",
      "Sample Amount: 10500\n",
      "--------------Completing indexing-----------------\n",
      "Done\n"
     ]
    }
   ],
   "source": [
    "df_2020_sample = df_sampline(d_2020,15000,6000)\n",
    "df_2021_sample = df_sampline(d_2021,15000,6000)\n",
    "df_2022_sample = df_sampline(d_2022,15000,6000)\n",
    "df_2023_sample = df_sampline(d_2023,15000,6000)\n",
    "df_2024_sample = df_sampline(d_2024_f6,7500,3000)"
   ]
  },
  {
   "cell_type": "code",
   "execution_count": 157,
   "id": "d23455a3-2089-4383-ab8c-c9157375f0f4",
   "metadata": {},
   "outputs": [],
   "source": [
    "with pd.ExcelWriter(\"./Dataset/excel/_sampled_demo_2020_2024f6.xlsx\") as writer:\n",
    "    df_2020_sample.to_excel(writer,sheet_name='2020',index=False)\n",
    "    df_2021_sample.to_excel(writer,sheet_name='2021',index=False)\n",
    "    df_2022_sample.to_excel(writer,sheet_name='2022',index=False)\n",
    "    df_2023_sample.to_excel(writer,sheet_name='2023',index=False)\n",
    "    df_2024_sample.to_excel(writer,sheet_name='2024_01-06',index=False)\n",
    "\n",
    "\n",
    "\n",
    "filepath_csv = \"./Dataset/csv/\"\n",
    "df_2020_sample.to_csv(filepath_csv+'_sampled_demo_2020.csv',index = False)\n",
    "\n",
    "df_2021_sample.to_csv(filepath_csv+'_sampled_demo_2021.csv',index = False)\n",
    "df_2022_sample.to_csv(filepath_csv+'_sampled_demo_2022.csv',index = False)\n",
    "df_2023_sample.to_csv(filepath_csv+'_sampled_demo_2023.csv',index = False)\n",
    "df_2024_sample.to_csv(filepath_csv+'_sampled_demo_2024f6.csv',index=False)\n"
   ]
  },
  {
   "cell_type": "code",
   "execution_count": null,
   "id": "5c489394-0cd2-4aba-8cd2-0df5e87ee11c",
   "metadata": {},
   "outputs": [],
   "source": []
  }
 ],
 "metadata": {
  "kernelspec": {
   "display_name": "Python 3 (ipykernel)",
   "language": "python",
   "name": "python3"
  },
  "language_info": {
   "codemirror_mode": {
    "name": "ipython",
    "version": 3
   },
   "file_extension": ".py",
   "mimetype": "text/x-python",
   "name": "python",
   "nbconvert_exporter": "python",
   "pygments_lexer": "ipython3",
   "version": "3.11.9"
  }
 },
 "nbformat": 4,
 "nbformat_minor": 5
}
