{
 "cells": [
  {
   "cell_type": "code",
   "execution_count": 1,
   "id": "02ba9a06-8b0f-444f-9a7a-6485a0e5c7b4",
   "metadata": {},
   "outputs": [],
   "source": [
    "import numpy as np\n",
    "import pandas as pd\n",
    "import matplotlib.pyplot as plt\n",
    "import datetime\n",
    "from sklearn.utils import shuffle"
   ]
  },
  {
   "cell_type": "code",
   "execution_count": null,
   "id": "fda26e0b-0dde-4179-a681-9ac1b4ad022e",
   "metadata": {},
   "outputs": [],
   "source": [
    "#TODO: Get data and create a sample from it to export to a excel file for each year to then begin analysis\n",
    "# Also do some minor cleaning such as removing the 80+ dates as we do not need that no more."
   ]
  }
 ],
 "metadata": {
  "kernelspec": {
   "display_name": "Python 3 (ipykernel)",
   "language": "python",
   "name": "python3"
  },
  "language_info": {
   "codemirror_mode": {
    "name": "ipython",
    "version": 3
   },
   "file_extension": ".py",
   "mimetype": "text/x-python",
   "name": "python",
   "nbconvert_exporter": "python",
   "pygments_lexer": "ipython3",
   "version": "3.11.9"
  }
 },
 "nbformat": 4,
 "nbformat_minor": 5
}
